{
 "cells": [
  {
   "cell_type": "code",
   "execution_count": 3,
   "id": "4852f0cd-e4df-4364-94fc-b9479be40b8a",
   "metadata": {},
   "outputs": [],
   "source": [
    "import pandas as pd\n",
    "\n",
    "fruit_sales = pd.DataFrame([[35, 21], [41, 34]], columns=['Apples', 'Bananas'],\n",
    "                index=['2017 Sales', '2018 Sales'])\n",
    "fruit_sales.to_csv('fruits.csv')"
   ]
  },
  {
   "cell_type": "code",
   "execution_count": null,
   "id": "f53e0f98-99b4-4c86-99c4-010f2f35c045",
   "metadata": {},
   "outputs": [],
   "source": []
  },
  {
   "cell_type": "code",
   "execution_count": null,
   "id": "df051250-90ab-4505-bc7f-e22ce5e19ac2",
   "metadata": {},
   "outputs": [],
   "source": []
  }
 ],
 "metadata": {
  "kernelspec": {
   "display_name": "Python 3 (ipykernel)",
   "language": "python",
   "name": "python3"
  },
  "language_info": {
   "codemirror_mode": {
    "name": "ipython",
    "version": 3
   },
   "file_extension": ".py",
   "mimetype": "text/x-python",
   "name": "python",
   "nbconvert_exporter": "python",
   "pygments_lexer": "ipython3",
   "version": "3.12.2"
  }
 },
 "nbformat": 4,
 "nbformat_minor": 5
}
